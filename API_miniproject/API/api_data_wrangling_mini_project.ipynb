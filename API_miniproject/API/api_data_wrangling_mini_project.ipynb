{
 "cells": [
  {
   "cell_type": "markdown",
   "metadata": {},
   "source": [
    "This exercise will require you to pull some data from the Qunadl API. Qaundl is currently the most widely used aggregator of financial market data."
   ]
  },
  {
   "cell_type": "markdown",
   "metadata": {},
   "source": [
    "As a first step, you will need to register a free account on the http://www.quandl.com website."
   ]
  },
  {
   "cell_type": "markdown",
   "metadata": {},
   "source": [
    "After you register, you will be provided with a unique API key, that you should store:"
   ]
  },
  {
   "cell_type": "code",
   "execution_count": 1,
   "metadata": {},
   "outputs": [],
   "source": [
    "# Store the API key as a string - according to PEP8, constants are always named in all upper case\n",
    "API_KEY = 's-AbJxPDbumQV9Yd1hMD'"
   ]
  },
  {
   "cell_type": "markdown",
   "metadata": {},
   "source": [
    "Qaundl has a large number of data sources, but, unfortunately, most of them require a Premium subscription. Still, there are also a good number of free datasets."
   ]
  },
  {
   "cell_type": "markdown",
   "metadata": {},
   "source": [
    "For this mini project, we will focus on equities data from the Frankfurt Stock Exhange (FSE), which is available for free. We'll try and analyze the stock prices of a company called Carl Zeiss Meditec, which manufactures tools for eye examinations, as well as medical lasers for laser eye surgery: https://www.zeiss.com/meditec/int/home.html. The company is listed under the stock ticker AFX_X."
   ]
  },
  {
   "cell_type": "markdown",
   "metadata": {},
   "source": [
    "You can find the detailed Quandl API instructions here: https://docs.quandl.com/docs/time-series"
   ]
  },
  {
   "cell_type": "markdown",
   "metadata": {},
   "source": [
    "While there is a dedicated Python package for connecting to the Quandl API, we would prefer that you use the *requests* package, which can be easily downloaded using *pip* or *conda*. You can find the documentation for the package here: http://docs.python-requests.org/en/master/ "
   ]
  },
  {
   "cell_type": "markdown",
   "metadata": {},
   "source": [
    "Finally, apart from the *requests* package, you are encouraged to not use any third party Python packages, such as *pandas*, and instead focus on what's available in the Python Standard Library (the *collections* module might come in handy: https://pymotw.com/3/collections/ ).\n",
    "Also, since you won't have access to DataFrames, you are encouraged to us Python's native data structures - preferably dictionaries, though some questions can also be answered using lists.\n",
    "You can read more on these data structures here: https://docs.python.org/3/tutorial/datastructures.html"
   ]
  },
  {
   "cell_type": "markdown",
   "metadata": {},
   "source": [
    "Keep in mind that the JSON responses you will be getting from the API map almost one-to-one to Python's dictionaries. Unfortunately, they can be very nested, so make sure you read up on indexing dictionaries in the documentation provided above."
   ]
  },
  {
   "cell_type": "code",
   "execution_count": 2,
   "metadata": {},
   "outputs": [],
   "source": [
    "# First, import the relevant modules\n",
    "import collections\n",
    "import requests\n",
    "import json"
   ]
  },
  {
   "cell_type": "code",
   "execution_count": 3,
   "metadata": {},
   "outputs": [
    {
     "name": "stdout",
     "output_type": "stream",
     "text": [
      "200\n"
     ]
    }
   ],
   "source": [
    "# Now, call the Quandl API and pull out a small sample of the data (only one day) to get a glimpse\n",
    "# into the JSON structure that will be returned\n",
    "#url = 'https://www.quandl.com/api/v3/datasets/FSE/AFX_X/data.json'\n",
    "url = 'https://www.quandl.com/api/v3/datasets/FSE/AFX_X.json?start_date=2019-07-23&end_date=2019-07-23'\n",
    "r = requests.get(url, params=API_KEY)\n",
    "print(r.status_code)"
   ]
  },
  {
   "cell_type": "code",
   "execution_count": 4,
   "metadata": {},
   "outputs": [
    {
     "name": "stdout",
     "output_type": "stream",
     "text": [
      "[['2019-07-23', 97.2, 98.2, 97.05, 98.1, None, 91724.0, 8971253.0, None, None, None]]\n"
     ]
    }
   ],
   "source": [
    "json_data = r.json()\n",
    "data_20170723 = json_data['dataset']['data']\n",
    "print(data_20170723)"
   ]
  },
  {
   "cell_type": "code",
   "execution_count": 5,
   "metadata": {},
   "outputs": [
    {
     "name": "stdout",
     "output_type": "stream",
     "text": [
      "{\n",
      "    \"dataset\": {\n",
      "        \"id\": 10095370,\n",
      "        \"dataset_code\": \"AFX_X\",\n",
      "        \"database_code\": \"FSE\",\n",
      "        \"name\": \"Carl Zeiss Meditec (AFX_X)\",\n",
      "        \"description\": \"Stock Prices for Carl Zeiss Meditec (2020-11-02) from the Frankfurt Stock Exchange.<br><br>Trading System: Xetra<br><br>ISIN: DE0005313704\",\n",
      "        \"refreshed_at\": \"2020-12-01T14:48:09.907Z\",\n",
      "        \"newest_available_date\": \"2020-12-01\",\n",
      "        \"oldest_available_date\": \"2000-06-07\",\n",
      "        \"column_names\": [\n",
      "            \"Date\",\n",
      "            \"Open\",\n",
      "            \"High\",\n",
      "            \"Low\",\n",
      "            \"Close\",\n",
      "            \"Change\",\n",
      "            \"Traded Volume\",\n",
      "            \"Turnover\",\n",
      "            \"Last Price of the Day\",\n",
      "            \"Daily Traded Units\",\n",
      "            \"Daily Turnover\"\n",
      "        ],\n",
      "        \"frequency\": \"daily\",\n",
      "        \"type\": \"Time Series\",\n",
      "        \"premium\": false,\n",
      "        \"limit\": null,\n",
      "        \"transform\": null,\n",
      "        \"column_index\": null,\n",
      "        \"start_date\": \"2019-07-23\",\n",
      "        \"end_date\": \"2019-07-23\",\n",
      "        \"data\": [\n",
      "            [\n",
      "                \"2019-07-23\",\n",
      "                97.2,\n",
      "                98.2,\n",
      "                97.05,\n",
      "                98.1,\n",
      "                null,\n",
      "                91724.0,\n",
      "                8971253.0,\n",
      "                null,\n",
      "                null,\n",
      "                null\n",
      "            ]\n",
      "        ],\n",
      "        \"collapse\": null,\n",
      "        \"order\": null,\n",
      "        \"database_id\": 6129\n",
      "    }\n",
      "}\n"
     ]
    }
   ],
   "source": [
    "# Inspect the JSON structure of the object you created, and take note of how nested it is,\n",
    "# as well as the overall structure\n",
    "formatted = json.dumps(json_data, indent=4)\n",
    "print(formatted)"
   ]
  },
  {
   "cell_type": "markdown",
   "metadata": {},
   "source": [
    "These are your tasks for this mini project:\n",
    "\n",
    "1. Collect data from the Franfurt Stock Exchange, for the ticker AFX_X, for the whole year 2017 (keep in mind that the date format is YYYY-MM-DD).\n",
    "2. Convert the returned JSON object into a Python dictionary.\n",
    "3. Calculate what the highest and lowest opening prices were for the stock in this period.\n",
    "4. What was the largest change in any one day (based on High and Low price)?\n",
    "5. What was the largest change between any two days (based on Closing Price)?\n",
    "6. What was the average daily trading volume during this year?\n",
    "7. (Optional) What was the median trading volume during this year. (Note: you may need to implement your own function for calculating the median.)"
   ]
  },
  {
   "cell_type": "code",
   "execution_count": 6,
   "metadata": {},
   "outputs": [
    {
     "name": "stdout",
     "output_type": "stream",
     "text": [
      "200\n"
     ]
    }
   ],
   "source": [
    "# 1 - Collect data from the Frankfurt Stock Exchange for the whole year 2017\n",
    "url_2017 = 'https://www.quandl.com/api/v3/datasets/FSE/AFX_X.json?start_date=2019-01-01&end_date=2019-12-31'\n",
    "r = requests.get(url_2017, params=API_KEY)\n",
    "print(r.status_code)"
   ]
  },
  {
   "cell_type": "code",
   "execution_count": 7,
   "metadata": {},
   "outputs": [],
   "source": [
    "# 2 - Convert the returned json object into a python dictionary\n",
    "json_data_2017 = r.json()"
   ]
  },
  {
   "cell_type": "code",
   "execution_count": 8,
   "metadata": {},
   "outputs": [
    {
     "name": "stdout",
     "output_type": "stream",
     "text": [
      "<class 'dict'>\n"
     ]
    }
   ],
   "source": [
    "print(type(json_data_2017))"
   ]
  },
  {
   "cell_type": "code",
   "execution_count": 9,
   "metadata": {},
   "outputs": [],
   "source": [
    "data_2017 = json_data_2017['dataset']['data']"
   ]
  },
  {
   "cell_type": "code",
   "execution_count": 10,
   "metadata": {},
   "outputs": [
    {
     "name": "stdout",
     "output_type": "stream",
     "text": [
      "Highest opening price in 2017 was $116.4\n",
      "Highest opening price in 2017 was $83.8\n"
     ]
    }
   ],
   "source": [
    "# 3 - Calculate what the highest and lowest opening prices were for the stock in this period\n",
    "\n",
    "opening_prices = [p[1] for p in data_2017 if p[1] != None]\n",
    "\n",
    "opening_prices.sort()\n",
    "\n",
    "opening_price_high = opening_prices[-1]\n",
    "print('Highest opening price in 2017 was ${}'.format(opening_price_high))\n",
    "\n",
    "opening_price_low = opening_prices[0]\n",
    "print('Highest opening price in 2017 was ${}'.format(opening_price_low))"
   ]
  },
  {
   "cell_type": "code",
   "execution_count": 11,
   "metadata": {},
   "outputs": [
    {
     "name": "stdout",
     "output_type": "stream",
     "text": [
      "The largest change in price in any one day in 2017 was $11.450000000000003\n"
     ]
    }
   ],
   "source": [
    "# 4 - What was the largest change in any one day (based on High and Low price)?\n",
    "\n",
    "change_high_low = [p[2] - p[3] for p in data_2017]\n",
    "\n",
    "change_high_low.sort(reverse=True)\n",
    "\n",
    "largest_change_high_low = change_high_low[0]\n",
    "\n",
    "print('The largest change in price in any one day in 2017 was ${}'.format(largest_change_high_low))"
   ]
  },
  {
   "cell_type": "code",
   "execution_count": 12,
   "metadata": {},
   "outputs": [
    {
     "name": "stdout",
     "output_type": "stream",
     "text": [
      "The largest change in price in any one day in 2017 was $43.85000000000001\n"
     ]
    }
   ],
   "source": [
    "# 5 - What was the largest change between any two days (based on Closing Price)?\n",
    "\n",
    "change_closing = [data_2017[p][4] - data_2017[p-1][4] for p in range(len(data_2017))]\n",
    "\n",
    "change_closing.sort(reverse=True)\n",
    "\n",
    "largest_change_closing = change_closing[0]\n",
    "\n",
    "print('The largest change in price in any one day in 2017 was ${}'.format(largest_change_closing))"
   ]
  },
  {
   "cell_type": "code",
   "execution_count": 13,
   "metadata": {},
   "outputs": [
    {
     "name": "stdout",
     "output_type": "stream",
     "text": [
      "The average daily trading volume during 2017 was 158423.75454545455\n"
     ]
    }
   ],
   "source": [
    "# 6 - What was the average daily trading volume during this year?\n",
    "trading_volume = [v[6] for v in data_2017 if v[6] != None]\n",
    "avg_trading_volume = sum(trading_volume) / len(trading_volume)\n",
    "print('The average daily trading volume during 2017 was {}'.format(avg_trading_volume))"
   ]
  },
  {
   "cell_type": "code",
   "execution_count": null,
   "metadata": {},
   "outputs": [],
   "source": []
  }
 ],
 "metadata": {
  "kernelspec": {
   "display_name": "Python 3",
   "language": "python",
   "name": "python3"
  },
  "language_info": {
   "codemirror_mode": {
    "name": "ipython",
    "version": 3
   },
   "file_extension": ".py",
   "mimetype": "text/x-python",
   "name": "python",
   "nbconvert_exporter": "python",
   "pygments_lexer": "ipython3",
   "version": "3.7.6"
  }
 },
 "nbformat": 4,
 "nbformat_minor": 2
}
